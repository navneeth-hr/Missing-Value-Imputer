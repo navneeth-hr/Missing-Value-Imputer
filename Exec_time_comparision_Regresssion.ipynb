{
  "cells": [
    {
      "cell_type": "code",
      "source": [
        "!pip install pandas gdown\n",
        "!pip install missforest"
      ],
      "metadata": {
        "colab": {
          "base_uri": "https://localhost:8080/"
        },
        "id": "8d-guNgxm8kl",
        "outputId": "7f06836b-1b4a-4c42-aa07-93e592ec5d0d"
      },
      "execution_count": 8,
      "outputs": [
        {
          "output_type": "stream",
          "name": "stdout",
          "text": [
            "Requirement already satisfied: pandas in /usr/local/lib/python3.10/dist-packages (1.5.3)\n",
            "Requirement already satisfied: gdown in /usr/local/lib/python3.10/dist-packages (4.6.6)\n",
            "Requirement already satisfied: python-dateutil>=2.8.1 in /usr/local/lib/python3.10/dist-packages (from pandas) (2.8.2)\n",
            "Requirement already satisfied: pytz>=2020.1 in /usr/local/lib/python3.10/dist-packages (from pandas) (2023.3.post1)\n",
            "Requirement already satisfied: numpy>=1.21.0 in /usr/local/lib/python3.10/dist-packages (from pandas) (1.23.5)\n",
            "Requirement already satisfied: filelock in /usr/local/lib/python3.10/dist-packages (from gdown) (3.13.1)\n",
            "Requirement already satisfied: requests[socks] in /usr/local/lib/python3.10/dist-packages (from gdown) (2.31.0)\n",
            "Requirement already satisfied: six in /usr/local/lib/python3.10/dist-packages (from gdown) (1.16.0)\n",
            "Requirement already satisfied: tqdm in /usr/local/lib/python3.10/dist-packages (from gdown) (4.66.1)\n",
            "Requirement already satisfied: beautifulsoup4 in /usr/local/lib/python3.10/dist-packages (from gdown) (4.11.2)\n",
            "Requirement already satisfied: soupsieve>1.2 in /usr/local/lib/python3.10/dist-packages (from beautifulsoup4->gdown) (2.5)\n",
            "Requirement already satisfied: charset-normalizer<4,>=2 in /usr/local/lib/python3.10/dist-packages (from requests[socks]->gdown) (3.3.2)\n",
            "Requirement already satisfied: idna<4,>=2.5 in /usr/local/lib/python3.10/dist-packages (from requests[socks]->gdown) (3.6)\n",
            "Requirement already satisfied: urllib3<3,>=1.21.1 in /usr/local/lib/python3.10/dist-packages (from requests[socks]->gdown) (2.0.7)\n",
            "Requirement already satisfied: certifi>=2017.4.17 in /usr/local/lib/python3.10/dist-packages (from requests[socks]->gdown) (2023.11.17)\n",
            "Requirement already satisfied: PySocks!=1.5.7,>=1.5.6 in /usr/local/lib/python3.10/dist-packages (from requests[socks]->gdown) (1.7.1)\n",
            "Requirement already satisfied: missforest in /usr/local/lib/python3.10/dist-packages (2.2.1)\n"
          ]
        }
      ]
    },
    {
      "cell_type": "code",
      "execution_count": 9,
      "metadata": {
        "id": "TV5WKincVHKW"
      },
      "outputs": [],
      "source": [
        "import pandas as pd\n",
        "import seaborn as sns\n",
        "import numpy as np\n",
        "import gdown\n",
        "from sklearn.model_selection import train_test_split\n",
        "from xgboost import XGBRegressor\n",
        "from xgboost import XGBClassifier\n",
        "import xgboost\n",
        "from sklearn.metrics import mean_squared_error"
      ]
    },
    {
      "cell_type": "markdown",
      "source": [
        "### Downloading the data from Google drive"
      ],
      "metadata": {
        "id": "yA22ERGMpru5"
      }
    },
    {
      "cell_type": "code",
      "source": [
        "url = 'https://drive.google.com/uc?id=1sXMdspt9jkBVQ-gzeTZikraGxPXhnnZo' # gdrive url of the dataset\n",
        "output = 'brewery_data_complete_extended.csv'\n",
        "gdown.download(url, output, quiet=False)                                 # download the data to the colab instance\n",
        "\n",
        "df = pd.read_csv(output)                                                 # Load it as a pandas dataframe"
      ],
      "metadata": {
        "colab": {
          "base_uri": "https://localhost:8080/"
        },
        "id": "SCSdRpFCCbEj",
        "outputId": "843067ef-56fc-4825-85c9-017b452afedd"
      },
      "execution_count": 10,
      "outputs": [
        {
          "output_type": "stream",
          "name": "stderr",
          "text": [
            "Downloading...\n",
            "From: https://drive.google.com/uc?id=1sXMdspt9jkBVQ-gzeTZikraGxPXhnnZo\n",
            "To: /content/brewery_data_complete_extended.csv\n",
            "100%|██████████| 2.62G/2.62G [00:26<00:00, 97.5MB/s]\n"
          ]
        }
      ]
    },
    {
      "cell_type": "code",
      "source": [
        "print(f'Shape of the dataset : Rows={df.shape[0]} , Columns={df.shape[1]}')"
      ],
      "metadata": {
        "colab": {
          "base_uri": "https://localhost:8080/"
        },
        "id": "rBC2iQB4rsZd",
        "outputId": "83217586-3e0a-4d6e-de70-8a7d44603e54"
      },
      "execution_count": 11,
      "outputs": [
        {
          "output_type": "stream",
          "name": "stdout",
          "text": [
            "Shape of the dataset : Rows=10000000 , Columns=20\n"
          ]
        }
      ]
    },
    {
      "cell_type": "markdown",
      "source": [
        "### Simple Random Sampling"
      ],
      "metadata": {
        "id": "2uMdo9Ggr0UQ"
      }
    },
    {
      "cell_type": "code",
      "execution_count": 12,
      "metadata": {
        "id": "OXR6DvTw3m6x"
      },
      "outputs": [],
      "source": [
        "df_sampled = df.sample(400000,random_state=10)"
      ]
    },
    {
      "cell_type": "markdown",
      "source": [
        "### Generating missing values at random"
      ],
      "metadata": {
        "id": "k9fSB5eNs8Fk"
      }
    },
    {
      "cell_type": "code",
      "source": [
        "np.random.seed(10)\n",
        "p=0.3\n",
        "mask = np.random.choice([True, False], size=df_sampled.shape, p=[p, 1-p])\n",
        "df_masked = df_sampled.mask(mask)"
      ],
      "metadata": {
        "id": "0l8lR3Mes7a-"
      },
      "execution_count": 13,
      "outputs": []
    },
    {
      "cell_type": "code",
      "source": [
        "# Dropping identifier type of columns\n",
        "df_masked = df_masked.drop(columns = ['Batch_ID','Brew_Date','Location','Ingredient_Ratio','SKU'])"
      ],
      "metadata": {
        "id": "AtgosZkGdoOG"
      },
      "execution_count": 14,
      "outputs": []
    },
    {
      "cell_type": "code",
      "source": [
        "# Each attribute has 30% missing values\n",
        "df_masked.isnull().sum()"
      ],
      "metadata": {
        "colab": {
          "base_uri": "https://localhost:8080/"
        },
        "id": "jCumMix8PKf-",
        "outputId": "5fbf00fb-5ebe-44ad-c55b-7a7b9a9588a9"
      },
      "execution_count": 15,
      "outputs": [
        {
          "output_type": "execute_result",
          "data": {
            "text/plain": [
              "Beer_Style                      119798\n",
              "Fermentation_Time               120188\n",
              "Temperature                     120339\n",
              "pH_Level                        119899\n",
              "Gravity                         120188\n",
              "Alcohol_Content                 119868\n",
              "Bitterness                      119974\n",
              "Color                           119545\n",
              "Volume_Produced                 120248\n",
              "Total_Sales                     120145\n",
              "Quality_Score                   120222\n",
              "Brewhouse_Efficiency            119595\n",
              "Loss_During_Brewing             120083\n",
              "Loss_During_Fermentation        119438\n",
              "Loss_During_Bottling_Kegging    120779\n",
              "dtype: int64"
            ]
          },
          "metadata": {},
          "execution_count": 15
        }
      ]
    },
    {
      "cell_type": "markdown",
      "source": [
        "### Missforest Imputation"
      ],
      "metadata": {
        "id": "JKSnDciajQcD"
      }
    },
    {
      "cell_type": "code",
      "execution_count": 17,
      "metadata": {
        "id": "qEfskvGcd8HH"
      },
      "outputs": [],
      "source": [
        "from missforest.missforest import MissForest\n",
        "import pandas as pd\n",
        "import numpy as np"
      ]
    },
    {
      "cell_type": "code",
      "execution_count": 18,
      "metadata": {
        "id": "4kXfNavieAcb"
      },
      "outputs": [],
      "source": [
        "mf = MissForest()"
      ]
    },
    {
      "cell_type": "code",
      "execution_count": 19,
      "metadata": {
        "colab": {
          "base_uri": "https://localhost:8080/"
        },
        "id": "LNIPDQ5YhFq_",
        "outputId": "e51ef327-d493-4360-90bf-7e5902cd1bcc"
      },
      "outputs": [
        {
          "output_type": "stream",
          "name": "stdout",
          "text": [
            "[LightGBM] [Info] Auto-choosing row-wise multi-threading, the overhead of testing was 0.000283 seconds.\n",
            "You can set `force_row_wise=true` to remove the overhead.\n",
            "And if memory is not enough, you can set `force_col_wise=true`.\n",
            "[LightGBM] [Info] Total Bins 2873\n",
            "[LightGBM] [Info] Number of data points in the train set: 1922, number of used features: 14\n",
            "[LightGBM] [Info] Start training from score -2.283007\n",
            "[LightGBM] [Info] Start training from score -2.023787\n",
            "[LightGBM] [Info] Start training from score -2.031693\n",
            "[LightGBM] [Info] Start training from score -2.131776\n",
            "[LightGBM] [Info] Start training from score -2.088851\n",
            "[LightGBM] [Info] Start training from score -2.019858\n",
            "[LightGBM] [Info] Start training from score -2.015944\n",
            "[LightGBM] [Info] Start training from score -2.068060\n",
            "[LightGBM] [Info] Auto-choosing col-wise multi-threading, the overhead of testing was 0.000341 seconds.\n",
            "You can set `force_col_wise=true` to remove the overhead.\n",
            "[LightGBM] [Info] Total Bins 2870\n",
            "[LightGBM] [Info] Number of data points in the train set: 1922, number of used features: 14\n",
            "[LightGBM] [Info] Start training from score 14.519771\n",
            "[LightGBM] [Info] Auto-choosing col-wise multi-threading, the overhead of testing was 0.000335 seconds.\n",
            "You can set `force_col_wise=true` to remove the overhead.\n",
            "[LightGBM] [Info] Total Bins 2626\n",
            "[LightGBM] [Info] Number of data points in the train set: 1922, number of used features: 14\n",
            "[LightGBM] [Info] Start training from score 19.920048\n",
            "[LightGBM] [Info] Auto-choosing col-wise multi-threading, the overhead of testing was 0.000303 seconds.\n",
            "You can set `force_col_wise=true` to remove the overhead.\n",
            "[LightGBM] [Info] Total Bins 2626\n",
            "[LightGBM] [Info] Number of data points in the train set: 1922, number of used features: 14\n",
            "[LightGBM] [Info] Start training from score 5.002944\n",
            "[LightGBM] [Info] Auto-choosing col-wise multi-threading, the overhead of testing was 0.000293 seconds.\n",
            "You can set `force_col_wise=true` to remove the overhead.\n",
            "[LightGBM] [Info] Total Bins 2626\n",
            "[LightGBM] [Info] Number of data points in the train set: 1922, number of used features: 14\n",
            "[LightGBM] [Info] Start training from score 1.054945\n",
            "[LightGBM] [Info] Auto-choosing col-wise multi-threading, the overhead of testing was 0.000303 seconds.\n",
            "You can set `force_col_wise=true` to remove the overhead.\n",
            "[LightGBM] [Info] Total Bins 2626\n",
            "[LightGBM] [Info] Number of data points in the train set: 1922, number of used features: 14\n",
            "[LightGBM] [Info] Start training from score 5.246327\n",
            "[LightGBM] [Info] Auto-choosing col-wise multi-threading, the overhead of testing was 0.000377 seconds.\n",
            "You can set `force_col_wise=true` to remove the overhead.\n",
            "[LightGBM] [Info] Total Bins 2840\n",
            "[LightGBM] [Info] Number of data points in the train set: 1922, number of used features: 14\n",
            "[LightGBM] [Info] Start training from score 39.305411\n",
            "[LightGBM] [Info] Auto-choosing col-wise multi-threading, the overhead of testing was 0.000483 seconds.\n",
            "You can set `force_col_wise=true` to remove the overhead.\n",
            "[LightGBM] [Info] Total Bins 2865\n",
            "[LightGBM] [Info] Number of data points in the train set: 1922, number of used features: 14\n",
            "[LightGBM] [Info] Start training from score 11.873569\n",
            "[LightGBM] [Info] Auto-choosing col-wise multi-threading, the overhead of testing was 0.000485 seconds.\n",
            "You can set `force_col_wise=true` to remove the overhead.\n",
            "[LightGBM] [Info] Total Bins 2626\n",
            "[LightGBM] [Info] Number of data points in the train set: 1922, number of used features: 14\n",
            "[LightGBM] [Info] Start training from score 2733.509365\n",
            "[LightGBM] [Info] Auto-choosing col-wise multi-threading, the overhead of testing was 0.000475 seconds.\n",
            "You can set `force_col_wise=true` to remove the overhead.\n",
            "[LightGBM] [Info] Total Bins 2626\n",
            "[LightGBM] [Info] Number of data points in the train set: 1922, number of used features: 14\n",
            "[LightGBM] [Info] Start training from score 10730.672227\n",
            "[LightGBM] [Info] Auto-choosing col-wise multi-threading, the overhead of testing was 0.000299 seconds.\n",
            "You can set `force_col_wise=true` to remove the overhead.\n",
            "[LightGBM] [Info] Total Bins 2626\n",
            "[LightGBM] [Info] Number of data points in the train set: 1922, number of used features: 14\n",
            "[LightGBM] [Info] Start training from score 8.036073\n",
            "[LightGBM] [Info] Auto-choosing col-wise multi-threading, the overhead of testing was 0.000299 seconds.\n",
            "You can set `force_col_wise=true` to remove the overhead.\n",
            "[LightGBM] [Info] Total Bins 2626\n",
            "[LightGBM] [Info] Number of data points in the train set: 1922, number of used features: 14\n",
            "[LightGBM] [Info] Start training from score 79.832865\n",
            "[LightGBM] [Info] Auto-choosing col-wise multi-threading, the overhead of testing was 0.000306 seconds.\n",
            "You can set `force_col_wise=true` to remove the overhead.\n",
            "[LightGBM] [Info] Total Bins 2626\n",
            "[LightGBM] [Info] Number of data points in the train set: 1922, number of used features: 14\n",
            "[LightGBM] [Info] Start training from score 2.980455\n",
            "[LightGBM] [Info] Auto-choosing col-wise multi-threading, the overhead of testing was 0.000311 seconds.\n",
            "You can set `force_col_wise=true` to remove the overhead.\n",
            "[LightGBM] [Info] Total Bins 2626\n",
            "[LightGBM] [Info] Number of data points in the train set: 1922, number of used features: 14\n",
            "[LightGBM] [Info] Start training from score 3.011110\n",
            "[LightGBM] [Info] Auto-choosing row-wise multi-threading, the overhead of testing was 0.000118 seconds.\n",
            "You can set `force_row_wise=true` to remove the overhead.\n",
            "And if memory is not enough, you can set `force_col_wise=true`.\n",
            "[LightGBM] [Info] Total Bins 2626\n",
            "[LightGBM] [Info] Number of data points in the train set: 1922, number of used features: 14\n",
            "[LightGBM] [Info] Start training from score 3.006168\n",
            "[LightGBM] [Info] Auto-choosing col-wise multi-threading, the overhead of testing was 0.000300 seconds.\n",
            "You can set `force_col_wise=true` to remove the overhead.\n",
            "[LightGBM] [Info] Total Bins 2873\n",
            "[LightGBM] [Info] Number of data points in the train set: 1922, number of used features: 14\n",
            "[LightGBM] [Info] Start training from score -2.283007\n",
            "[LightGBM] [Info] Start training from score -2.023787\n",
            "[LightGBM] [Info] Start training from score -2.031693\n",
            "[LightGBM] [Info] Start training from score -2.131776\n",
            "[LightGBM] [Info] Start training from score -2.088851\n",
            "[LightGBM] [Info] Start training from score -2.019858\n",
            "[LightGBM] [Info] Start training from score -2.015944\n",
            "[LightGBM] [Info] Start training from score -2.068060\n",
            "[LightGBM] [Info] Auto-choosing row-wise multi-threading, the overhead of testing was 0.000121 seconds.\n",
            "You can set `force_row_wise=true` to remove the overhead.\n",
            "And if memory is not enough, you can set `force_col_wise=true`.\n",
            "[LightGBM] [Info] Total Bins 2870\n",
            "[LightGBM] [Info] Number of data points in the train set: 1922, number of used features: 14\n",
            "[LightGBM] [Info] Start training from score 14.519771\n",
            "[LightGBM] [Info] Auto-choosing col-wise multi-threading, the overhead of testing was 0.000326 seconds.\n",
            "You can set `force_col_wise=true` to remove the overhead.\n",
            "[LightGBM] [Info] Total Bins 2626\n",
            "[LightGBM] [Info] Number of data points in the train set: 1922, number of used features: 14\n",
            "[LightGBM] [Info] Start training from score 19.920048\n",
            "[LightGBM] [Info] Auto-choosing col-wise multi-threading, the overhead of testing was 0.000303 seconds.\n",
            "You can set `force_col_wise=true` to remove the overhead.\n",
            "[LightGBM] [Info] Total Bins 2626\n",
            "[LightGBM] [Info] Number of data points in the train set: 1922, number of used features: 14\n",
            "[LightGBM] [Info] Start training from score 5.002944\n",
            "[LightGBM] [Info] Auto-choosing row-wise multi-threading, the overhead of testing was 0.000193 seconds.\n",
            "You can set `force_row_wise=true` to remove the overhead.\n",
            "And if memory is not enough, you can set `force_col_wise=true`.\n",
            "[LightGBM] [Info] Total Bins 2626\n",
            "[LightGBM] [Info] Number of data points in the train set: 1922, number of used features: 14\n",
            "[LightGBM] [Info] Start training from score 1.054945\n",
            "[LightGBM] [Info] Auto-choosing col-wise multi-threading, the overhead of testing was 0.000480 seconds.\n",
            "You can set `force_col_wise=true` to remove the overhead.\n",
            "[LightGBM] [Info] Total Bins 2626\n",
            "[LightGBM] [Info] Number of data points in the train set: 1922, number of used features: 14\n",
            "[LightGBM] [Info] Start training from score 5.246327\n",
            "[LightGBM] [Info] Auto-choosing col-wise multi-threading, the overhead of testing was 0.000490 seconds.\n",
            "You can set `force_col_wise=true` to remove the overhead.\n",
            "[LightGBM] [Info] Total Bins 2840\n",
            "[LightGBM] [Info] Number of data points in the train set: 1922, number of used features: 14\n",
            "[LightGBM] [Info] Start training from score 39.305411\n",
            "[LightGBM] [Info] Auto-choosing col-wise multi-threading, the overhead of testing was 0.000460 seconds.\n",
            "You can set `force_col_wise=true` to remove the overhead.\n",
            "[LightGBM] [Info] Total Bins 2865\n",
            "[LightGBM] [Info] Number of data points in the train set: 1922, number of used features: 14\n",
            "[LightGBM] [Info] Start training from score 11.873569\n",
            "[LightGBM] [Info] Auto-choosing col-wise multi-threading, the overhead of testing was 0.000297 seconds.\n",
            "You can set `force_col_wise=true` to remove the overhead.\n",
            "[LightGBM] [Info] Total Bins 2626\n",
            "[LightGBM] [Info] Number of data points in the train set: 1922, number of used features: 14\n",
            "[LightGBM] [Info] Start training from score 2733.509365\n",
            "[LightGBM] [Info] Auto-choosing col-wise multi-threading, the overhead of testing was 0.000302 seconds.\n",
            "You can set `force_col_wise=true` to remove the overhead.\n",
            "[LightGBM] [Info] Total Bins 2626\n",
            "[LightGBM] [Info] Number of data points in the train set: 1922, number of used features: 14\n",
            "[LightGBM] [Info] Start training from score 10730.672227\n",
            "[LightGBM] [Info] Auto-choosing col-wise multi-threading, the overhead of testing was 0.000308 seconds.\n",
            "You can set `force_col_wise=true` to remove the overhead.\n",
            "[LightGBM] [Info] Total Bins 2626\n",
            "[LightGBM] [Info] Number of data points in the train set: 1922, number of used features: 14\n",
            "[LightGBM] [Info] Start training from score 8.036073\n",
            "[LightGBM] [Info] Auto-choosing col-wise multi-threading, the overhead of testing was 0.000328 seconds.\n",
            "You can set `force_col_wise=true` to remove the overhead.\n",
            "[LightGBM] [Info] Total Bins 2626\n",
            "[LightGBM] [Info] Number of data points in the train set: 1922, number of used features: 14\n",
            "[LightGBM] [Info] Start training from score 79.832865\n",
            "[LightGBM] [Info] Auto-choosing col-wise multi-threading, the overhead of testing was 0.000406 seconds.\n",
            "You can set `force_col_wise=true` to remove the overhead.\n",
            "[LightGBM] [Info] Total Bins 2626\n",
            "[LightGBM] [Info] Number of data points in the train set: 1922, number of used features: 14\n",
            "[LightGBM] [Info] Start training from score 2.980455\n",
            "[LightGBM] [Info] Auto-choosing col-wise multi-threading, the overhead of testing was 0.000296 seconds.\n",
            "You can set `force_col_wise=true` to remove the overhead.\n",
            "[LightGBM] [Info] Total Bins 2626\n",
            "[LightGBM] [Info] Number of data points in the train set: 1922, number of used features: 14\n",
            "[LightGBM] [Info] Start training from score 3.011110\n",
            "[LightGBM] [Info] Auto-choosing col-wise multi-threading, the overhead of testing was 0.000469 seconds.\n",
            "You can set `force_col_wise=true` to remove the overhead.\n",
            "[LightGBM] [Info] Total Bins 2626\n",
            "[LightGBM] [Info] Number of data points in the train set: 1922, number of used features: 14\n",
            "[LightGBM] [Info] Start training from score 3.006168\n",
            "[LightGBM] [Info] Auto-choosing col-wise multi-threading, the overhead of testing was 0.000453 seconds.\n",
            "You can set `force_col_wise=true` to remove the overhead.\n",
            "[LightGBM] [Info] Total Bins 2873\n",
            "[LightGBM] [Info] Number of data points in the train set: 1922, number of used features: 14\n",
            "[LightGBM] [Info] Start training from score -2.283007\n",
            "[LightGBM] [Info] Start training from score -2.023787\n",
            "[LightGBM] [Info] Start training from score -2.031693\n",
            "[LightGBM] [Info] Start training from score -2.131776\n",
            "[LightGBM] [Info] Start training from score -2.088851\n",
            "[LightGBM] [Info] Start training from score -2.019858\n",
            "[LightGBM] [Info] Start training from score -2.015944\n",
            "[LightGBM] [Info] Start training from score -2.068060\n",
            "[LightGBM] [Info] Auto-choosing col-wise multi-threading, the overhead of testing was 0.000468 seconds.\n",
            "You can set `force_col_wise=true` to remove the overhead.\n",
            "[LightGBM] [Info] Total Bins 2870\n",
            "[LightGBM] [Info] Number of data points in the train set: 1922, number of used features: 14\n",
            "[LightGBM] [Info] Start training from score 14.519771\n",
            "[LightGBM] [Info] Auto-choosing col-wise multi-threading, the overhead of testing was 0.000313 seconds.\n",
            "You can set `force_col_wise=true` to remove the overhead.\n",
            "[LightGBM] [Info] Total Bins 2626\n",
            "[LightGBM] [Info] Number of data points in the train set: 1922, number of used features: 14\n",
            "[LightGBM] [Info] Start training from score 19.920048\n",
            "[LightGBM] [Info] Auto-choosing col-wise multi-threading, the overhead of testing was 0.000295 seconds.\n",
            "You can set `force_col_wise=true` to remove the overhead.\n",
            "[LightGBM] [Info] Total Bins 2626\n",
            "[LightGBM] [Info] Number of data points in the train set: 1922, number of used features: 14\n",
            "[LightGBM] [Info] Start training from score 5.002944\n",
            "[LightGBM] [Info] Auto-choosing row-wise multi-threading, the overhead of testing was 0.000127 seconds.\n",
            "You can set `force_row_wise=true` to remove the overhead.\n",
            "And if memory is not enough, you can set `force_col_wise=true`.\n",
            "[LightGBM] [Info] Total Bins 2626\n",
            "[LightGBM] [Info] Number of data points in the train set: 1922, number of used features: 14\n",
            "[LightGBM] [Info] Start training from score 1.054945\n",
            "[LightGBM] [Info] Auto-choosing col-wise multi-threading, the overhead of testing was 0.000310 seconds.\n",
            "You can set `force_col_wise=true` to remove the overhead.\n",
            "[LightGBM] [Info] Total Bins 2626\n",
            "[LightGBM] [Info] Number of data points in the train set: 1922, number of used features: 14\n",
            "[LightGBM] [Info] Start training from score 5.246327\n",
            "[LightGBM] [Info] Auto-choosing col-wise multi-threading, the overhead of testing was 0.000290 seconds.\n",
            "You can set `force_col_wise=true` to remove the overhead.\n",
            "[LightGBM] [Info] Total Bins 2840\n",
            "[LightGBM] [Info] Number of data points in the train set: 1922, number of used features: 14\n",
            "[LightGBM] [Info] Start training from score 39.305411\n",
            "[LightGBM] [Info] Auto-choosing col-wise multi-threading, the overhead of testing was 0.000306 seconds.\n",
            "You can set `force_col_wise=true` to remove the overhead.\n",
            "[LightGBM] [Info] Total Bins 2865\n",
            "[LightGBM] [Info] Number of data points in the train set: 1922, number of used features: 14\n",
            "[LightGBM] [Info] Start training from score 11.873569\n",
            "[LightGBM] [Info] Auto-choosing col-wise multi-threading, the overhead of testing was 0.000334 seconds.\n",
            "You can set `force_col_wise=true` to remove the overhead.\n",
            "[LightGBM] [Info] Total Bins 2626\n",
            "[LightGBM] [Info] Number of data points in the train set: 1922, number of used features: 14\n",
            "[LightGBM] [Info] Start training from score 2733.509365\n",
            "[LightGBM] [Info] Auto-choosing col-wise multi-threading, the overhead of testing was 0.000295 seconds.\n",
            "You can set `force_col_wise=true` to remove the overhead.\n",
            "[LightGBM] [Info] Total Bins 2626\n",
            "[LightGBM] [Info] Number of data points in the train set: 1922, number of used features: 14\n",
            "[LightGBM] [Info] Start training from score 10730.672227\n",
            "[LightGBM] [Info] Auto-choosing col-wise multi-threading, the overhead of testing was 0.000478 seconds.\n",
            "You can set `force_col_wise=true` to remove the overhead.\n",
            "[LightGBM] [Info] Total Bins 2626\n",
            "[LightGBM] [Info] Number of data points in the train set: 1922, number of used features: 14\n",
            "[LightGBM] [Info] Start training from score 8.036073\n",
            "[LightGBM] [Info] Auto-choosing col-wise multi-threading, the overhead of testing was 0.000491 seconds.\n",
            "You can set `force_col_wise=true` to remove the overhead.\n",
            "[LightGBM] [Info] Total Bins 2626\n",
            "[LightGBM] [Info] Number of data points in the train set: 1922, number of used features: 14\n",
            "[LightGBM] [Info] Start training from score 79.832865\n",
            "[LightGBM] [Info] Auto-choosing col-wise multi-threading, the overhead of testing was 0.000481 seconds.\n",
            "You can set `force_col_wise=true` to remove the overhead.\n",
            "[LightGBM] [Info] Total Bins 2626\n",
            "[LightGBM] [Info] Number of data points in the train set: 1922, number of used features: 14\n",
            "[LightGBM] [Info] Start training from score 2.980455\n",
            "[LightGBM] [Info] Auto-choosing col-wise multi-threading, the overhead of testing was 0.000297 seconds.\n",
            "You can set `force_col_wise=true` to remove the overhead.\n",
            "[LightGBM] [Info] Total Bins 2626\n",
            "[LightGBM] [Info] Number of data points in the train set: 1922, number of used features: 14\n",
            "[LightGBM] [Info] Start training from score 3.011110\n",
            "[LightGBM] [Info] Auto-choosing col-wise multi-threading, the overhead of testing was 0.000298 seconds.\n",
            "You can set `force_col_wise=true` to remove the overhead.\n",
            "[LightGBM] [Info] Total Bins 2626\n",
            "[LightGBM] [Info] Number of data points in the train set: 1922, number of used features: 14\n",
            "[LightGBM] [Info] Start training from score 3.006168\n",
            "[LightGBM] [Info] Auto-choosing col-wise multi-threading, the overhead of testing was 0.000291 seconds.\n",
            "You can set `force_col_wise=true` to remove the overhead.\n",
            "[LightGBM] [Info] Total Bins 2873\n",
            "[LightGBM] [Info] Number of data points in the train set: 1922, number of used features: 14\n",
            "[LightGBM] [Info] Start training from score -2.283007\n",
            "[LightGBM] [Info] Start training from score -2.023787\n",
            "[LightGBM] [Info] Start training from score -2.031693\n",
            "[LightGBM] [Info] Start training from score -2.131776\n",
            "[LightGBM] [Info] Start training from score -2.088851\n",
            "[LightGBM] [Info] Start training from score -2.019858\n",
            "[LightGBM] [Info] Start training from score -2.015944\n",
            "[LightGBM] [Info] Start training from score -2.068060\n",
            "[LightGBM] [Info] Auto-choosing col-wise multi-threading, the overhead of testing was 0.000293 seconds.\n",
            "You can set `force_col_wise=true` to remove the overhead.\n",
            "[LightGBM] [Info] Total Bins 2870\n",
            "[LightGBM] [Info] Number of data points in the train set: 1922, number of used features: 14\n",
            "[LightGBM] [Info] Start training from score 14.519771\n",
            "[LightGBM] [Info] Auto-choosing col-wise multi-threading, the overhead of testing was 0.000312 seconds.\n",
            "You can set `force_col_wise=true` to remove the overhead.\n",
            "[LightGBM] [Info] Total Bins 2626\n",
            "[LightGBM] [Info] Number of data points in the train set: 1922, number of used features: 14\n",
            "[LightGBM] [Info] Start training from score 19.920048\n",
            "[LightGBM] [Info] Auto-choosing row-wise multi-threading, the overhead of testing was 0.000129 seconds.\n",
            "You can set `force_row_wise=true` to remove the overhead.\n",
            "And if memory is not enough, you can set `force_col_wise=true`.\n",
            "[LightGBM] [Info] Total Bins 2626\n",
            "[LightGBM] [Info] Number of data points in the train set: 1922, number of used features: 14\n",
            "[LightGBM] [Info] Start training from score 5.002944\n",
            "[LightGBM] [Info] Auto-choosing col-wise multi-threading, the overhead of testing was 0.000305 seconds.\n",
            "You can set `force_col_wise=true` to remove the overhead.\n",
            "[LightGBM] [Info] Total Bins 2626\n",
            "[LightGBM] [Info] Number of data points in the train set: 1922, number of used features: 14\n",
            "[LightGBM] [Info] Start training from score 1.054945\n",
            "[LightGBM] [Info] Auto-choosing col-wise multi-threading, the overhead of testing was 0.000296 seconds.\n",
            "You can set `force_col_wise=true` to remove the overhead.\n",
            "[LightGBM] [Info] Total Bins 2626\n",
            "[LightGBM] [Info] Number of data points in the train set: 1922, number of used features: 14\n",
            "[LightGBM] [Info] Start training from score 5.246327\n",
            "[LightGBM] [Info] Auto-choosing col-wise multi-threading, the overhead of testing was 0.000467 seconds.\n",
            "You can set `force_col_wise=true` to remove the overhead.\n",
            "[LightGBM] [Info] Total Bins 2840\n",
            "[LightGBM] [Info] Number of data points in the train set: 1922, number of used features: 14\n",
            "[LightGBM] [Info] Start training from score 39.305411\n",
            "[LightGBM] [Info] Auto-choosing col-wise multi-threading, the overhead of testing was 0.000491 seconds.\n",
            "You can set `force_col_wise=true` to remove the overhead.\n",
            "[LightGBM] [Info] Total Bins 2865\n",
            "[LightGBM] [Info] Number of data points in the train set: 1922, number of used features: 14\n",
            "[LightGBM] [Info] Start training from score 11.873569\n",
            "[LightGBM] [Info] Auto-choosing col-wise multi-threading, the overhead of testing was 0.000509 seconds.\n",
            "You can set `force_col_wise=true` to remove the overhead.\n",
            "[LightGBM] [Info] Total Bins 2626\n",
            "[LightGBM] [Info] Number of data points in the train set: 1922, number of used features: 14\n",
            "[LightGBM] [Info] Start training from score 2733.509365\n",
            "[LightGBM] [Info] Auto-choosing col-wise multi-threading, the overhead of testing was 0.000292 seconds.\n",
            "You can set `force_col_wise=true` to remove the overhead.\n",
            "[LightGBM] [Info] Total Bins 2626\n",
            "[LightGBM] [Info] Number of data points in the train set: 1922, number of used features: 14\n",
            "[LightGBM] [Info] Start training from score 10730.672227\n",
            "[LightGBM] [Info] Auto-choosing col-wise multi-threading, the overhead of testing was 0.000292 seconds.\n",
            "You can set `force_col_wise=true` to remove the overhead.\n",
            "[LightGBM] [Info] Total Bins 2626\n",
            "[LightGBM] [Info] Number of data points in the train set: 1922, number of used features: 14\n",
            "[LightGBM] [Info] Start training from score 8.036073\n",
            "[LightGBM] [Info] Auto-choosing col-wise multi-threading, the overhead of testing was 0.000294 seconds.\n",
            "You can set `force_col_wise=true` to remove the overhead.\n",
            "[LightGBM] [Info] Total Bins 2626\n",
            "[LightGBM] [Info] Number of data points in the train set: 1922, number of used features: 14\n",
            "[LightGBM] [Info] Start training from score 79.832865\n",
            "[LightGBM] [Info] Auto-choosing col-wise multi-threading, the overhead of testing was 0.000296 seconds.\n",
            "You can set `force_col_wise=true` to remove the overhead.\n",
            "[LightGBM] [Info] Total Bins 2626\n",
            "[LightGBM] [Info] Number of data points in the train set: 1922, number of used features: 14\n",
            "[LightGBM] [Info] Start training from score 2.980455\n",
            "[LightGBM] [Info] Auto-choosing col-wise multi-threading, the overhead of testing was 0.000292 seconds.\n",
            "You can set `force_col_wise=true` to remove the overhead.\n",
            "[LightGBM] [Info] Total Bins 2626\n",
            "[LightGBM] [Info] Number of data points in the train set: 1922, number of used features: 14\n",
            "[LightGBM] [Info] Start training from score 3.011110\n",
            "[LightGBM] [Info] Auto-choosing col-wise multi-threading, the overhead of testing was 0.000293 seconds.\n",
            "You can set `force_col_wise=true` to remove the overhead.\n",
            "[LightGBM] [Info] Total Bins 2626\n",
            "[LightGBM] [Info] Number of data points in the train set: 1922, number of used features: 14\n",
            "[LightGBM] [Info] Start training from score 3.006168\n",
            "[LightGBM] [Info] Auto-choosing col-wise multi-threading, the overhead of testing was 0.000288 seconds.\n",
            "You can set `force_col_wise=true` to remove the overhead.\n",
            "[LightGBM] [Info] Total Bins 2873\n",
            "[LightGBM] [Info] Number of data points in the train set: 1922, number of used features: 14\n",
            "[LightGBM] [Info] Start training from score -2.283007\n",
            "[LightGBM] [Info] Start training from score -2.023787\n",
            "[LightGBM] [Info] Start training from score -2.031693\n",
            "[LightGBM] [Info] Start training from score -2.131776\n",
            "[LightGBM] [Info] Start training from score -2.088851\n",
            "[LightGBM] [Info] Start training from score -2.019858\n",
            "[LightGBM] [Info] Start training from score -2.015944\n",
            "[LightGBM] [Info] Start training from score -2.068060\n",
            "[LightGBM] [Info] Auto-choosing col-wise multi-threading, the overhead of testing was 0.000289 seconds.\n",
            "You can set `force_col_wise=true` to remove the overhead.\n",
            "[LightGBM] [Info] Total Bins 2870\n",
            "[LightGBM] [Info] Number of data points in the train set: 1922, number of used features: 14\n",
            "[LightGBM] [Info] Start training from score 14.519771\n",
            "[LightGBM] [Info] Auto-choosing col-wise multi-threading, the overhead of testing was 0.000296 seconds.\n",
            "You can set `force_col_wise=true` to remove the overhead.\n",
            "[LightGBM] [Info] Total Bins 2626\n",
            "[LightGBM] [Info] Number of data points in the train set: 1922, number of used features: 14\n",
            "[LightGBM] [Info] Start training from score 19.920048\n",
            "[LightGBM] [Info] Auto-choosing col-wise multi-threading, the overhead of testing was 0.000507 seconds.\n",
            "You can set `force_col_wise=true` to remove the overhead.\n",
            "[LightGBM] [Info] Total Bins 2626\n",
            "[LightGBM] [Info] Number of data points in the train set: 1922, number of used features: 14\n",
            "[LightGBM] [Info] Start training from score 5.002944\n",
            "[LightGBM] [Info] Auto-choosing col-wise multi-threading, the overhead of testing was 0.000484 seconds.\n",
            "You can set `force_col_wise=true` to remove the overhead.\n",
            "[LightGBM] [Info] Total Bins 2626\n",
            "[LightGBM] [Info] Number of data points in the train set: 1922, number of used features: 14\n",
            "[LightGBM] [Info] Start training from score 1.054945\n",
            "[LightGBM] [Info] Auto-choosing col-wise multi-threading, the overhead of testing was 0.000288 seconds.\n",
            "You can set `force_col_wise=true` to remove the overhead.\n",
            "[LightGBM] [Info] Total Bins 2626\n",
            "[LightGBM] [Info] Number of data points in the train set: 1922, number of used features: 14\n",
            "[LightGBM] [Info] Start training from score 5.246327\n",
            "[LightGBM] [Info] Auto-choosing col-wise multi-threading, the overhead of testing was 0.000292 seconds.\n",
            "You can set `force_col_wise=true` to remove the overhead.\n",
            "[LightGBM] [Info] Total Bins 2840\n",
            "[LightGBM] [Info] Number of data points in the train set: 1922, number of used features: 14\n",
            "[LightGBM] [Info] Start training from score 39.305411\n",
            "[LightGBM] [Info] Auto-choosing col-wise multi-threading, the overhead of testing was 0.000323 seconds.\n",
            "You can set `force_col_wise=true` to remove the overhead.\n",
            "[LightGBM] [Info] Total Bins 2865\n",
            "[LightGBM] [Info] Number of data points in the train set: 1922, number of used features: 14\n",
            "[LightGBM] [Info] Start training from score 11.873569\n",
            "[LightGBM] [Info] Auto-choosing col-wise multi-threading, the overhead of testing was 0.000293 seconds.\n",
            "You can set `force_col_wise=true` to remove the overhead.\n",
            "[LightGBM] [Info] Total Bins 2626\n",
            "[LightGBM] [Info] Number of data points in the train set: 1922, number of used features: 14\n",
            "[LightGBM] [Info] Start training from score 2733.509365\n",
            "[LightGBM] [Info] Auto-choosing col-wise multi-threading, the overhead of testing was 0.000308 seconds.\n",
            "You can set `force_col_wise=true` to remove the overhead.\n",
            "[LightGBM] [Info] Total Bins 2626\n",
            "[LightGBM] [Info] Number of data points in the train set: 1922, number of used features: 14\n",
            "[LightGBM] [Info] Start training from score 10730.672227\n",
            "[LightGBM] [Info] Auto-choosing col-wise multi-threading, the overhead of testing was 0.000316 seconds.\n",
            "You can set `force_col_wise=true` to remove the overhead.\n",
            "[LightGBM] [Info] Total Bins 2626\n",
            "[LightGBM] [Info] Number of data points in the train set: 1922, number of used features: 14\n",
            "[LightGBM] [Info] Start training from score 8.036073\n",
            "[LightGBM] [Info] Auto-choosing col-wise multi-threading, the overhead of testing was 0.000306 seconds.\n",
            "You can set `force_col_wise=true` to remove the overhead.\n",
            "[LightGBM] [Info] Total Bins 2626\n",
            "[LightGBM] [Info] Number of data points in the train set: 1922, number of used features: 14\n",
            "[LightGBM] [Info] Start training from score 79.832865\n",
            "[LightGBM] [Info] Auto-choosing col-wise multi-threading, the overhead of testing was 0.000299 seconds.\n",
            "You can set `force_col_wise=true` to remove the overhead.\n",
            "[LightGBM] [Info] Total Bins 2626\n",
            "[LightGBM] [Info] Number of data points in the train set: 1922, number of used features: 14\n",
            "[LightGBM] [Info] Start training from score 2.980455\n",
            "[LightGBM] [Info] Auto-choosing col-wise multi-threading, the overhead of testing was 0.000504 seconds.\n",
            "You can set `force_col_wise=true` to remove the overhead.\n",
            "[LightGBM] [Info] Total Bins 2626\n",
            "[LightGBM] [Info] Number of data points in the train set: 1922, number of used features: 14\n",
            "[LightGBM] [Info] Start training from score 3.011110\n",
            "[LightGBM] [Info] Auto-choosing row-wise multi-threading, the overhead of testing was 0.000192 seconds.\n",
            "You can set `force_row_wise=true` to remove the overhead.\n",
            "And if memory is not enough, you can set `force_col_wise=true`.\n",
            "[LightGBM] [Info] Total Bins 2626\n",
            "[LightGBM] [Info] Number of data points in the train set: 1922, number of used features: 14\n",
            "[LightGBM] [Info] Start training from score 3.006168\n",
            "[LightGBM] [Info] Auto-choosing col-wise multi-threading, the overhead of testing was 0.000476 seconds.\n",
            "You can set `force_col_wise=true` to remove the overhead.\n",
            "[LightGBM] [Info] Total Bins 2873\n",
            "[LightGBM] [Info] Number of data points in the train set: 1922, number of used features: 14\n",
            "[LightGBM] [Info] Start training from score -2.283007\n",
            "[LightGBM] [Info] Start training from score -2.023787\n",
            "[LightGBM] [Info] Start training from score -2.031693\n",
            "[LightGBM] [Info] Start training from score -2.131776\n",
            "[LightGBM] [Info] Start training from score -2.088851\n",
            "[LightGBM] [Info] Start training from score -2.019858\n",
            "[LightGBM] [Info] Start training from score -2.015944\n",
            "[LightGBM] [Info] Start training from score -2.068060\n",
            "[LightGBM] [Info] Auto-choosing col-wise multi-threading, the overhead of testing was 0.000471 seconds.\n",
            "You can set `force_col_wise=true` to remove the overhead.\n",
            "[LightGBM] [Info] Total Bins 2870\n",
            "[LightGBM] [Info] Number of data points in the train set: 1922, number of used features: 14\n",
            "[LightGBM] [Info] Start training from score 14.519771\n",
            "[LightGBM] [Info] Auto-choosing col-wise multi-threading, the overhead of testing was 0.000294 seconds.\n",
            "You can set `force_col_wise=true` to remove the overhead.\n",
            "[LightGBM] [Info] Total Bins 2626\n",
            "[LightGBM] [Info] Number of data points in the train set: 1922, number of used features: 14\n",
            "[LightGBM] [Info] Start training from score 19.920048\n",
            "[LightGBM] [Info] Auto-choosing col-wise multi-threading, the overhead of testing was 0.000296 seconds.\n",
            "You can set `force_col_wise=true` to remove the overhead.\n",
            "[LightGBM] [Info] Total Bins 2626\n",
            "[LightGBM] [Info] Number of data points in the train set: 1922, number of used features: 14\n",
            "[LightGBM] [Info] Start training from score 5.002944\n",
            "[LightGBM] [Info] Auto-choosing col-wise multi-threading, the overhead of testing was 0.000293 seconds.\n",
            "You can set `force_col_wise=true` to remove the overhead.\n",
            "[LightGBM] [Info] Total Bins 2626\n",
            "[LightGBM] [Info] Number of data points in the train set: 1922, number of used features: 14\n",
            "[LightGBM] [Info] Start training from score 1.054945\n",
            "[LightGBM] [Info] Auto-choosing row-wise multi-threading, the overhead of testing was 0.000119 seconds.\n",
            "You can set `force_row_wise=true` to remove the overhead.\n",
            "And if memory is not enough, you can set `force_col_wise=true`.\n",
            "[LightGBM] [Info] Total Bins 2626\n",
            "[LightGBM] [Info] Number of data points in the train set: 1922, number of used features: 14\n",
            "[LightGBM] [Info] Start training from score 5.246327\n",
            "[LightGBM] [Info] Auto-choosing col-wise multi-threading, the overhead of testing was 0.000292 seconds.\n",
            "You can set `force_col_wise=true` to remove the overhead.\n",
            "[LightGBM] [Info] Total Bins 2840\n",
            "[LightGBM] [Info] Number of data points in the train set: 1922, number of used features: 14\n",
            "[LightGBM] [Info] Start training from score 39.305411\n",
            "[LightGBM] [Info] Auto-choosing col-wise multi-threading, the overhead of testing was 0.000302 seconds.\n",
            "You can set `force_col_wise=true` to remove the overhead.\n",
            "[LightGBM] [Info] Total Bins 2865\n",
            "[LightGBM] [Info] Number of data points in the train set: 1922, number of used features: 14\n",
            "[LightGBM] [Info] Start training from score 11.873569\n",
            "[LightGBM] [Info] Auto-choosing col-wise multi-threading, the overhead of testing was 0.000290 seconds.\n",
            "You can set `force_col_wise=true` to remove the overhead.\n",
            "[LightGBM] [Info] Total Bins 2626\n",
            "[LightGBM] [Info] Number of data points in the train set: 1922, number of used features: 14\n",
            "[LightGBM] [Info] Start training from score 2733.509365\n",
            "[LightGBM] [Info] Auto-choosing col-wise multi-threading, the overhead of testing was 0.000469 seconds.\n",
            "You can set `force_col_wise=true` to remove the overhead.\n",
            "[LightGBM] [Info] Total Bins 2626\n",
            "[LightGBM] [Info] Number of data points in the train set: 1922, number of used features: 14\n",
            "[LightGBM] [Info] Start training from score 10730.672227\n",
            "[LightGBM] [Info] Auto-choosing col-wise multi-threading, the overhead of testing was 0.000496 seconds.\n",
            "You can set `force_col_wise=true` to remove the overhead.\n",
            "[LightGBM] [Info] Total Bins 2626\n",
            "[LightGBM] [Info] Number of data points in the train set: 1922, number of used features: 14\n",
            "[LightGBM] [Info] Start training from score 8.036073\n",
            "[LightGBM] [Info] Auto-choosing col-wise multi-threading, the overhead of testing was 0.000478 seconds.\n",
            "You can set `force_col_wise=true` to remove the overhead.\n",
            "[LightGBM] [Info] Total Bins 2626\n",
            "[LightGBM] [Info] Number of data points in the train set: 1922, number of used features: 14\n",
            "[LightGBM] [Info] Start training from score 79.832865\n",
            "[LightGBM] [Info] Auto-choosing col-wise multi-threading, the overhead of testing was 0.000298 seconds.\n",
            "You can set `force_col_wise=true` to remove the overhead.\n",
            "[LightGBM] [Info] Total Bins 2626\n",
            "[LightGBM] [Info] Number of data points in the train set: 1922, number of used features: 14\n",
            "[LightGBM] [Info] Start training from score 2.980455\n",
            "[LightGBM] [Info] Auto-choosing col-wise multi-threading, the overhead of testing was 0.000303 seconds.\n",
            "You can set `force_col_wise=true` to remove the overhead.\n",
            "[LightGBM] [Info] Total Bins 2626\n",
            "[LightGBM] [Info] Number of data points in the train set: 1922, number of used features: 14\n",
            "[LightGBM] [Info] Start training from score 3.011110\n",
            "[LightGBM] [Info] Auto-choosing col-wise multi-threading, the overhead of testing was 0.000309 seconds.\n",
            "You can set `force_col_wise=true` to remove the overhead.\n",
            "[LightGBM] [Info] Total Bins 2626\n",
            "[LightGBM] [Info] Number of data points in the train set: 1922, number of used features: 14\n",
            "[LightGBM] [Info] Start training from score 3.006168\n",
            "CPU times: user 3min 21s, sys: 3.62 s, total: 3min 25s\n",
            "Wall time: 3min 26s\n"
          ]
        }
      ],
      "source": [
        "%%time\n",
        "imputed_data = mf.fit_transform(X=df_masked,categorical = ['Beer_Style']);\n"
      ]
    },
    {
      "cell_type": "markdown",
      "source": [
        "### ML Pipeline for Missforest"
      ],
      "metadata": {
        "id": "rAzMCtKHkzmX"
      }
    },
    {
      "cell_type": "code",
      "source": [
        "target = 'Fermentation_Time'\n",
        "X_ = imputed_data.iloc[:,:]\n",
        "X_ = X_.drop(columns = [target])\n",
        "y_ = imputed_data[target]\n",
        "\n",
        "X_  = pd.get_dummies(X_)\n",
        "\n",
        "# Split the dataset into training and testing sets\n",
        "X_train, X_test, y_train, y_test = train_test_split(X_, y_, test_size=0.2, random_state=42)"
      ],
      "metadata": {
        "id": "6YXB4nBxkyz8"
      },
      "execution_count": 20,
      "outputs": []
    },
    {
      "cell_type": "code",
      "source": [
        "# Fit the model\n",
        "mod = XGBRegressor()\n",
        "mod.fit(X_train,y_train)\n",
        "y_pred = mod.predict(X_test)\n",
        "\n",
        "# Calculate the mean squared error\n",
        "mse_miss = mean_squared_error(y_test, y_pred)\n",
        "print(f\"Root Mean Squared Error: {mse_miss}\")"
      ],
      "metadata": {
        "colab": {
          "base_uri": "https://localhost:8080/"
        },
        "id": "aE0q_l7lmR7V",
        "outputId": "127bb8c0-c8da-458c-ac84-69dd73a4a30d"
      },
      "execution_count": 21,
      "outputs": [
        {
          "output_type": "stream",
          "name": "stdout",
          "text": [
            "Root Mean Squared Error: 5.883795732294364\n"
          ]
        }
      ]
    },
    {
      "cell_type": "markdown",
      "source": [
        "### Modified Missforest"
      ],
      "metadata": {
        "id": "WGxZV_ndmb2B"
      }
    },
    {
      "cell_type": "code",
      "source": [
        "!pip install -i https://test.pypi.org/simple/ MissingValImputerDats6450\n",
        "# from missingvaluehandler import *\n",
        "# from errors import *\n",
        "# from missforest import *"
      ],
      "metadata": {
        "id": "QfzkXKt7NLtz",
        "colab": {
          "base_uri": "https://localhost:8080/"
        },
        "outputId": "f8025e16-5e67-4c45-bd40-dae43b21c82a"
      },
      "execution_count": 23,
      "outputs": [
        {
          "output_type": "stream",
          "name": "stdout",
          "text": [
            "Looking in indexes: https://test.pypi.org/simple/\n",
            "Requirement already satisfied: MissingValImputerDats6450 in /usr/local/lib/python3.10/dist-packages (1.0)\n",
            "Requirement already satisfied: numpy in /usr/local/lib/python3.10/dist-packages (from MissingValImputerDats6450) (1.23.5)\n",
            "Requirement already satisfied: pandas in /usr/local/lib/python3.10/dist-packages (from MissingValImputerDats6450) (1.5.3)\n",
            "Requirement already satisfied: scikit-learn in /usr/local/lib/python3.10/dist-packages (from MissingValImputerDats6450) (1.2.2)\n",
            "Requirement already satisfied: lightgbm in /usr/local/lib/python3.10/dist-packages (from MissingValImputerDats6450) (4.1.0)\n",
            "Requirement already satisfied: xgboost in /usr/local/lib/python3.10/dist-packages (from MissingValImputerDats6450) (2.0.2)\n",
            "Requirement already satisfied: missforest in /usr/local/lib/python3.10/dist-packages (from MissingValImputerDats6450) (2.2.1)\n",
            "Requirement already satisfied: scipy in /usr/local/lib/python3.10/dist-packages (from lightgbm->MissingValImputerDats6450) (1.11.4)\n",
            "Requirement already satisfied: python-dateutil>=2.8.1 in /usr/local/lib/python3.10/dist-packages (from pandas->MissingValImputerDats6450) (2.8.2)\n",
            "Requirement already satisfied: pytz>=2020.1 in /usr/local/lib/python3.10/dist-packages (from pandas->MissingValImputerDats6450) (2023.3.post1)\n",
            "Requirement already satisfied: joblib>=1.1.1 in /usr/local/lib/python3.10/dist-packages (from scikit-learn->MissingValImputerDats6450) (1.3.2)\n",
            "Requirement already satisfied: threadpoolctl>=2.0.0 in /usr/local/lib/python3.10/dist-packages (from scikit-learn->MissingValImputerDats6450) (3.2.0)\n",
            "Requirement already satisfied: six>=1.5 in /usr/local/lib/python3.10/dist-packages (from python-dateutil>=2.8.1->pandas->MissingValImputerDats6450) (1.16.0)\n"
          ]
        }
      ]
    },
    {
      "cell_type": "code",
      "source": [
        "from MissingValImputerDats6450.MissingValImputerDats6450 import MissingValImputerDats6450"
      ],
      "metadata": {
        "id": "stUkA9ER3MGl"
      },
      "execution_count": 24,
      "outputs": []
    },
    {
      "cell_type": "code",
      "source": [
        "mvh = MissingValImputerDats6450()"
      ],
      "metadata": {
        "id": "a_OJRT035Xg0"
      },
      "execution_count": 25,
      "outputs": []
    },
    {
      "cell_type": "code",
      "source": [
        "%%time\n",
        "fitted = mvh.fit_transform(df_masked,'Fermentation_Time',categorical = ['Beer_Style'])"
      ],
      "metadata": {
        "colab": {
          "base_uri": "https://localhost:8080/"
        },
        "id": "os_KkeTL5o1V",
        "outputId": "84b96ddf-1701-4c14-ad94-d7eb7e336785"
      },
      "execution_count": 26,
      "outputs": [
        {
          "output_type": "stream",
          "name": "stdout",
          "text": [
            "[LightGBM] [Info] Auto-choosing col-wise multi-threading, the overhead of testing was 0.009562 seconds.\n",
            "You can set `force_col_wise=true` to remove the overhead.\n",
            "[LightGBM] [Info] Total Bins 2626\n",
            "[LightGBM] [Info] Number of data points in the train set: 32849, number of used features: 14\n",
            "[LightGBM] [Info] Start training from score 79.985669\n",
            "[LightGBM] [Info] Auto-choosing col-wise multi-threading, the overhead of testing was 0.008242 seconds.\n",
            "You can set `force_col_wise=true` to remove the overhead.\n",
            "[LightGBM] [Info] Total Bins 2626\n",
            "[LightGBM] [Info] Number of data points in the train set: 32849, number of used features: 14\n",
            "[LightGBM] [Info] Start training from score 2.999074\n",
            "[LightGBM] [Info] Auto-choosing row-wise multi-threading, the overhead of testing was 0.003151 seconds.\n",
            "You can set `force_row_wise=true` to remove the overhead.\n",
            "And if memory is not enough, you can set `force_col_wise=true`.\n",
            "[LightGBM] [Info] Total Bins 2626\n",
            "[LightGBM] [Info] Number of data points in the train set: 32849, number of used features: 14\n",
            "[LightGBM] [Info] Start training from score 10462.179744\n",
            "[LightGBM] [Info] Auto-choosing col-wise multi-threading, the overhead of testing was 0.026091 seconds.\n",
            "You can set `force_col_wise=true` to remove the overhead.\n",
            "[LightGBM] [Info] Total Bins 2870\n",
            "[LightGBM] [Info] Number of data points in the train set: 32849, number of used features: 14\n",
            "[LightGBM] [Info] Start training from score 14.486286\n",
            "[LightGBM] [Info] Auto-choosing row-wise multi-threading, the overhead of testing was 0.003886 seconds.\n",
            "You can set `force_row_wise=true` to remove the overhead.\n",
            "And if memory is not enough, you can set `force_col_wise=true`.\n",
            "[LightGBM] [Info] Total Bins 2626\n",
            "[LightGBM] [Info] Number of data points in the train set: 32849, number of used features: 14\n",
            "[LightGBM] [Info] Start training from score 1.055018\n",
            "[LightGBM] [Info] Auto-choosing col-wise multi-threading, the overhead of testing was 0.004526 seconds.\n",
            "You can set `force_col_wise=true` to remove the overhead.\n",
            "[LightGBM] [Info] Total Bins 2626\n",
            "[LightGBM] [Info] Number of data points in the train set: 32849, number of used features: 14\n",
            "[LightGBM] [Info] Start training from score 20.016401\n",
            "[LightGBM] [Info] Auto-choosing col-wise multi-threading, the overhead of testing was 0.004551 seconds.\n",
            "You can set `force_col_wise=true` to remove the overhead.\n",
            "[LightGBM] [Info] Total Bins 2626\n",
            "[LightGBM] [Info] Number of data points in the train set: 32849, number of used features: 14\n",
            "[LightGBM] [Info] Start training from score 3.008227\n",
            "[LightGBM] [Info] Auto-choosing col-wise multi-threading, the overhead of testing was 0.004462 seconds.\n",
            "You can set `force_col_wise=true` to remove the overhead.\n",
            "[LightGBM] [Info] Total Bins 2626\n",
            "[LightGBM] [Info] Number of data points in the train set: 32849, number of used features: 14\n",
            "[LightGBM] [Info] Start training from score 79.985669\n",
            "[LightGBM] [Info] Auto-choosing row-wise multi-threading, the overhead of testing was 0.001387 seconds.\n",
            "You can set `force_row_wise=true` to remove the overhead.\n",
            "And if memory is not enough, you can set `force_col_wise=true`.\n",
            "[LightGBM] [Info] Total Bins 2626\n",
            "[LightGBM] [Info] Number of data points in the train set: 32849, number of used features: 14\n",
            "[LightGBM] [Info] Start training from score 2.999074\n",
            "[LightGBM] [Info] Auto-choosing col-wise multi-threading, the overhead of testing was 0.004596 seconds.\n",
            "You can set `force_col_wise=true` to remove the overhead.\n",
            "[LightGBM] [Info] Total Bins 2626\n",
            "[LightGBM] [Info] Number of data points in the train set: 32849, number of used features: 14\n",
            "[LightGBM] [Info] Start training from score 10462.179744\n",
            "[LightGBM] [Info] Auto-choosing col-wise multi-threading, the overhead of testing was 0.004433 seconds.\n",
            "You can set `force_col_wise=true` to remove the overhead.\n",
            "[LightGBM] [Info] Total Bins 2870\n",
            "[LightGBM] [Info] Number of data points in the train set: 32849, number of used features: 14\n",
            "[LightGBM] [Info] Start training from score 14.486286\n",
            "[LightGBM] [Info] Auto-choosing row-wise multi-threading, the overhead of testing was 0.001383 seconds.\n",
            "You can set `force_row_wise=true` to remove the overhead.\n",
            "And if memory is not enough, you can set `force_col_wise=true`.\n",
            "[LightGBM] [Info] Total Bins 2626\n",
            "[LightGBM] [Info] Number of data points in the train set: 32849, number of used features: 14\n",
            "[LightGBM] [Info] Start training from score 1.055018\n",
            "[LightGBM] [Info] Auto-choosing col-wise multi-threading, the overhead of testing was 0.004455 seconds.\n",
            "You can set `force_col_wise=true` to remove the overhead.\n",
            "[LightGBM] [Info] Total Bins 2626\n",
            "[LightGBM] [Info] Number of data points in the train set: 32849, number of used features: 14\n",
            "[LightGBM] [Info] Start training from score 20.016401\n",
            "[LightGBM] [Info] Auto-choosing col-wise multi-threading, the overhead of testing was 0.004527 seconds.\n",
            "You can set `force_col_wise=true` to remove the overhead.\n",
            "[LightGBM] [Info] Total Bins 2626\n",
            "[LightGBM] [Info] Number of data points in the train set: 32849, number of used features: 14\n",
            "[LightGBM] [Info] Start training from score 3.008227\n",
            "[LightGBM] [Info] Auto-choosing col-wise multi-threading, the overhead of testing was 0.004479 seconds.\n",
            "You can set `force_col_wise=true` to remove the overhead.\n",
            "[LightGBM] [Info] Total Bins 2626\n",
            "[LightGBM] [Info] Number of data points in the train set: 32849, number of used features: 14\n",
            "[LightGBM] [Info] Start training from score 79.985669\n",
            "[LightGBM] [Info] Auto-choosing col-wise multi-threading, the overhead of testing was 0.011190 seconds.\n",
            "You can set `force_col_wise=true` to remove the overhead.\n",
            "[LightGBM] [Info] Total Bins 2626\n",
            "[LightGBM] [Info] Number of data points in the train set: 32849, number of used features: 14\n",
            "[LightGBM] [Info] Start training from score 2.999074\n",
            "[LightGBM] [Info] Auto-choosing col-wise multi-threading, the overhead of testing was 0.007525 seconds.\n",
            "You can set `force_col_wise=true` to remove the overhead.\n",
            "[LightGBM] [Info] Total Bins 2626\n",
            "[LightGBM] [Info] Number of data points in the train set: 32849, number of used features: 14\n",
            "[LightGBM] [Info] Start training from score 10462.179744\n",
            "[LightGBM] [Info] Auto-choosing col-wise multi-threading, the overhead of testing was 0.007416 seconds.\n",
            "You can set `force_col_wise=true` to remove the overhead.\n",
            "[LightGBM] [Info] Total Bins 2870\n",
            "[LightGBM] [Info] Number of data points in the train set: 32849, number of used features: 14\n",
            "[LightGBM] [Info] Start training from score 14.486286\n",
            "[LightGBM] [Info] Auto-choosing col-wise multi-threading, the overhead of testing was 0.007411 seconds.\n",
            "You can set `force_col_wise=true` to remove the overhead.\n",
            "[LightGBM] [Info] Total Bins 2626\n",
            "[LightGBM] [Info] Number of data points in the train set: 32849, number of used features: 14\n",
            "[LightGBM] [Info] Start training from score 1.055018\n",
            "[LightGBM] [Info] Auto-choosing col-wise multi-threading, the overhead of testing was 0.004483 seconds.\n",
            "You can set `force_col_wise=true` to remove the overhead.\n",
            "[LightGBM] [Info] Total Bins 2626\n",
            "[LightGBM] [Info] Number of data points in the train set: 32849, number of used features: 14\n",
            "[LightGBM] [Info] Start training from score 20.016401\n",
            "[LightGBM] [Info] Auto-choosing row-wise multi-threading, the overhead of testing was 0.001386 seconds.\n",
            "You can set `force_row_wise=true` to remove the overhead.\n",
            "And if memory is not enough, you can set `force_col_wise=true`.\n",
            "[LightGBM] [Info] Total Bins 2626\n",
            "[LightGBM] [Info] Number of data points in the train set: 32849, number of used features: 14\n",
            "[LightGBM] [Info] Start training from score 3.008227\n",
            "[LightGBM] [Info] Auto-choosing row-wise multi-threading, the overhead of testing was 0.001363 seconds.\n",
            "You can set `force_row_wise=true` to remove the overhead.\n",
            "And if memory is not enough, you can set `force_col_wise=true`.\n",
            "[LightGBM] [Info] Total Bins 2626\n",
            "[LightGBM] [Info] Number of data points in the train set: 32849, number of used features: 14\n",
            "[LightGBM] [Info] Start training from score 79.985669\n",
            "[LightGBM] [Info] Auto-choosing col-wise multi-threading, the overhead of testing was 0.004641 seconds.\n",
            "You can set `force_col_wise=true` to remove the overhead.\n",
            "[LightGBM] [Info] Total Bins 2626\n",
            "[LightGBM] [Info] Number of data points in the train set: 32849, number of used features: 14\n",
            "[LightGBM] [Info] Start training from score 2.999074\n",
            "[LightGBM] [Info] Auto-choosing row-wise multi-threading, the overhead of testing was 0.001377 seconds.\n",
            "You can set `force_row_wise=true` to remove the overhead.\n",
            "And if memory is not enough, you can set `force_col_wise=true`.\n",
            "[LightGBM] [Info] Total Bins 2626\n",
            "[LightGBM] [Info] Number of data points in the train set: 32849, number of used features: 14\n",
            "[LightGBM] [Info] Start training from score 10462.179744\n",
            "[LightGBM] [Info] Auto-choosing col-wise multi-threading, the overhead of testing was 0.005238 seconds.\n",
            "You can set `force_col_wise=true` to remove the overhead.\n",
            "[LightGBM] [Info] Total Bins 2870\n",
            "[LightGBM] [Info] Number of data points in the train set: 32849, number of used features: 14\n",
            "[LightGBM] [Info] Start training from score 14.486286\n",
            "[LightGBM] [Info] Auto-choosing col-wise multi-threading, the overhead of testing was 0.004527 seconds.\n",
            "You can set `force_col_wise=true` to remove the overhead.\n",
            "[LightGBM] [Info] Total Bins 2626\n",
            "[LightGBM] [Info] Number of data points in the train set: 32849, number of used features: 14\n",
            "[LightGBM] [Info] Start training from score 1.055018\n",
            "[LightGBM] [Info] Auto-choosing row-wise multi-threading, the overhead of testing was 0.001413 seconds.\n",
            "You can set `force_row_wise=true` to remove the overhead.\n",
            "And if memory is not enough, you can set `force_col_wise=true`.\n",
            "[LightGBM] [Info] Total Bins 2626\n",
            "[LightGBM] [Info] Number of data points in the train set: 32849, number of used features: 14\n",
            "[LightGBM] [Info] Start training from score 20.016401\n",
            "[LightGBM] [Info] Auto-choosing col-wise multi-threading, the overhead of testing was 0.004573 seconds.\n",
            "You can set `force_col_wise=true` to remove the overhead.\n",
            "[LightGBM] [Info] Total Bins 2626\n",
            "[LightGBM] [Info] Number of data points in the train set: 32849, number of used features: 14\n",
            "[LightGBM] [Info] Start training from score 3.008227\n",
            "[LightGBM] [Info] Auto-choosing col-wise multi-threading, the overhead of testing was 0.004483 seconds.\n",
            "You can set `force_col_wise=true` to remove the overhead.\n",
            "[LightGBM] [Info] Total Bins 2626\n",
            "[LightGBM] [Info] Number of data points in the train set: 32849, number of used features: 14\n",
            "[LightGBM] [Info] Start training from score 79.985669\n",
            "[LightGBM] [Info] Auto-choosing col-wise multi-threading, the overhead of testing was 0.007623 seconds.\n",
            "You can set `force_col_wise=true` to remove the overhead.\n",
            "[LightGBM] [Info] Total Bins 2626\n",
            "[LightGBM] [Info] Number of data points in the train set: 32849, number of used features: 14\n",
            "[LightGBM] [Info] Start training from score 2.999074\n",
            "[LightGBM] [Info] Auto-choosing col-wise multi-threading, the overhead of testing was 0.007590 seconds.\n",
            "You can set `force_col_wise=true` to remove the overhead.\n",
            "[LightGBM] [Info] Total Bins 2626\n",
            "[LightGBM] [Info] Number of data points in the train set: 32849, number of used features: 14\n",
            "[LightGBM] [Info] Start training from score 10462.179744\n",
            "[LightGBM] [Info] Auto-choosing col-wise multi-threading, the overhead of testing was 0.007232 seconds.\n",
            "You can set `force_col_wise=true` to remove the overhead.\n",
            "[LightGBM] [Info] Total Bins 2870\n",
            "[LightGBM] [Info] Number of data points in the train set: 32849, number of used features: 14\n",
            "[LightGBM] [Info] Start training from score 14.486286\n",
            "[LightGBM] [Info] Auto-choosing col-wise multi-threading, the overhead of testing was 0.004889 seconds.\n",
            "You can set `force_col_wise=true` to remove the overhead.\n",
            "[LightGBM] [Info] Total Bins 2626\n",
            "[LightGBM] [Info] Number of data points in the train set: 32849, number of used features: 14\n",
            "[LightGBM] [Info] Start training from score 1.055018\n",
            "[LightGBM] [Info] Auto-choosing col-wise multi-threading, the overhead of testing was 0.004502 seconds.\n",
            "You can set `force_col_wise=true` to remove the overhead.\n",
            "[LightGBM] [Info] Total Bins 2626\n",
            "[LightGBM] [Info] Number of data points in the train set: 32849, number of used features: 14\n",
            "[LightGBM] [Info] Start training from score 20.016401\n",
            "[LightGBM] [Info] Auto-choosing col-wise multi-threading, the overhead of testing was 0.004460 seconds.\n",
            "You can set `force_col_wise=true` to remove the overhead.\n",
            "[LightGBM] [Info] Total Bins 2626\n",
            "[LightGBM] [Info] Number of data points in the train set: 32849, number of used features: 14\n",
            "[LightGBM] [Info] Start training from score 3.008227\n",
            "CPU times: user 42.3 s, sys: 2.87 s, total: 45.1 s\n",
            "Wall time: 59.1 s\n"
          ]
        }
      ]
    },
    {
      "cell_type": "markdown",
      "source": [
        "### ML Pipeline for modified Missforest"
      ],
      "metadata": {
        "id": "ub_GHhuXP929"
      }
    },
    {
      "cell_type": "code",
      "source": [
        "# Prepare the training data\n",
        "X_ = fitted.iloc[:,:]\n",
        "X_ = X_.drop(columns = [target])\n",
        "y_ = fitted[target]\n",
        "\n",
        "X_  = pd.get_dummies(X_)\n",
        "\n",
        "# Split the dataset into training and testing sets\n",
        "X_train, X_test, y_train, y_test = train_test_split(X_, y_, test_size=0.2, random_state=42)"
      ],
      "metadata": {
        "id": "mxXyy6GDWAA4"
      },
      "execution_count": 27,
      "outputs": []
    },
    {
      "cell_type": "code",
      "source": [
        "X_train.columns"
      ],
      "metadata": {
        "colab": {
          "base_uri": "https://localhost:8080/"
        },
        "id": "9ASsH7UHSlS9",
        "outputId": "dd310ac8-d545-4e23-8cec-962556455dba"
      },
      "execution_count": 28,
      "outputs": [
        {
          "output_type": "execute_result",
          "data": {
            "text/plain": [
              "Index(['Temperature', 'pH_Level', 'Gravity', 'Alcohol_Content', 'Bitterness',\n",
              "       'Color', 'Volume_Produced', 'Total_Sales', 'Quality_Score',\n",
              "       'Brewhouse_Efficiency', 'Loss_During_Brewing',\n",
              "       'Loss_During_Fermentation', 'Loss_During_Bottling_Kegging',\n",
              "       'Beer_Style_Ale', 'Beer_Style_IPA', 'Beer_Style_Lager',\n",
              "       'Beer_Style_Pilsner', 'Beer_Style_Porter', 'Beer_Style_Sour',\n",
              "       'Beer_Style_Stout', 'Beer_Style_Wheat Beer'],\n",
              "      dtype='object')"
            ]
          },
          "metadata": {},
          "execution_count": 28
        }
      ]
    },
    {
      "cell_type": "code",
      "source": [
        "# Fit the model\n",
        "mod = XGBRegressor()\n",
        "mod.fit(X_train,y_train)\n",
        "y_pred = mod.predict(X_test)\n",
        "\n",
        "# Calculate the mean squared error\n",
        "mse_mmiss = mean_squared_error(y_test, y_pred)\n",
        "print(f\"Mean Squared Error: {mse_mmiss}\")"
      ],
      "metadata": {
        "colab": {
          "base_uri": "https://localhost:8080/"
        },
        "id": "0zhQ_d2OQLru",
        "outputId": "33b4c6da-5018-4d4d-b9ed-f86ed6c66d2d"
      },
      "execution_count": 29,
      "outputs": [
        {
          "output_type": "stream",
          "name": "stdout",
          "text": [
            "Mean Squared Error: 5.775307912661294\n"
          ]
        }
      ]
    },
    {
      "cell_type": "code",
      "source": [
        "print(f'Difference in RMSE : {abs(np.sqrt(mse_mmiss)-np.sqrt(mse_miss))}')"
      ],
      "metadata": {
        "id": "Qva0xzUox-4F",
        "colab": {
          "base_uri": "https://localhost:8080/"
        },
        "outputId": "37b2fe1c-e125-473d-8b73-0286720b156c"
      },
      "execution_count": 30,
      "outputs": [
        {
          "output_type": "stream",
          "name": "stdout",
          "text": [
            "Difference in RMSE : 0.022466638742875134\n"
          ]
        }
      ]
    },
    {
      "cell_type": "code",
      "source": [],
      "metadata": {
        "id": "YmDYwGSPrpIa"
      },
      "execution_count": 30,
      "outputs": []
    }
  ],
  "metadata": {
    "accelerator": "TPU",
    "colab": {
      "provenance": []
    },
    "kernelspec": {
      "display_name": "Python 3",
      "name": "python3"
    },
    "language_info": {
      "name": "python"
    }
  },
  "nbformat": 4,
  "nbformat_minor": 0
}